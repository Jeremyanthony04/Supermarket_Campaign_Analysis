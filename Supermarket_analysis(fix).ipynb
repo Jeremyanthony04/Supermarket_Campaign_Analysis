{
 "cells": [
  {
   "cell_type": "code",
   "execution_count": 71,
   "metadata": {},
   "outputs": [],
   "source": [
    "import numpy as np\n",
    "import pandas as pd\n",
    "import matplotlib.pyplot as plt\n",
    "import plotly as p\n",
    "import plotly.express as px\n",
    "import seaborn as sns\n",
    "import scipy as sp\n",
    "from scipy.stats import ttest_1samp, ttest_ind, ttest_rel, f_oneway\n",
    "import scipy.stats as ss"
   ]
  },
  {
   "attachments": {},
   "cell_type": "markdown",
   "metadata": {},
   "source": [
    " # **Background Supermarket**\n",
    "\n",
    "1. Supermarket Store has launched 6 campaigns over the last two years. They have recorded the customers' data based on their demography (education and year birth) and customers' total money spent in USD over 6 product sales.\n",
    "2. Target stakeholder: Marketing Team of Supermarket\n",
    "\n",
    "3. Influence of discount on purchasing behaviour\n",
    "\n",
    "4. Influence of place of purchases: catalog, web and store\n",
    "\n",
    "assumption, when the sales is up, the income and revenue in the supermarket store will also go up (directly proportional)\n",
    "\n"
   ]
  },
  {
   "attachments": {},
   "cell_type": "markdown",
   "metadata": {},
   "source": [
    "# **Load Dataset**"
   ]
  },
  {
   "cell_type": "code",
   "execution_count": 72,
   "metadata": {},
   "outputs": [
    {
     "data": {
      "text/html": [
       "<div>\n",
       "<style scoped>\n",
       "    .dataframe tbody tr th:only-of-type {\n",
       "        vertical-align: middle;\n",
       "    }\n",
       "\n",
       "    .dataframe tbody tr th {\n",
       "        vertical-align: top;\n",
       "    }\n",
       "\n",
       "    .dataframe thead th {\n",
       "        text-align: right;\n",
       "    }\n",
       "</style>\n",
       "<table border=\"1\" class=\"dataframe\">\n",
       "  <thead>\n",
       "    <tr style=\"text-align: right;\">\n",
       "      <th></th>\n",
       "      <th>ID</th>\n",
       "      <th>Year_Birth</th>\n",
       "      <th>Education</th>\n",
       "      <th>Marital_Status</th>\n",
       "      <th>Income</th>\n",
       "      <th>Kidhome</th>\n",
       "      <th>Teenhome</th>\n",
       "      <th>Dt_Customer</th>\n",
       "      <th>Recency</th>\n",
       "      <th>MntWines</th>\n",
       "      <th>...</th>\n",
       "      <th>NumWebVisitsMonth</th>\n",
       "      <th>AcceptedCmp3</th>\n",
       "      <th>AcceptedCmp4</th>\n",
       "      <th>AcceptedCmp5</th>\n",
       "      <th>AcceptedCmp1</th>\n",
       "      <th>AcceptedCmp2</th>\n",
       "      <th>Complain</th>\n",
       "      <th>Z_CostContact</th>\n",
       "      <th>Z_Revenue</th>\n",
       "      <th>Response</th>\n",
       "    </tr>\n",
       "  </thead>\n",
       "  <tbody>\n",
       "    <tr>\n",
       "      <th>0</th>\n",
       "      <td>5524</td>\n",
       "      <td>1957</td>\n",
       "      <td>Graduation</td>\n",
       "      <td>Single</td>\n",
       "      <td>58138.0</td>\n",
       "      <td>0</td>\n",
       "      <td>0</td>\n",
       "      <td>04-09-2012</td>\n",
       "      <td>58</td>\n",
       "      <td>635</td>\n",
       "      <td>...</td>\n",
       "      <td>7</td>\n",
       "      <td>0</td>\n",
       "      <td>0</td>\n",
       "      <td>0</td>\n",
       "      <td>0</td>\n",
       "      <td>0</td>\n",
       "      <td>0</td>\n",
       "      <td>3</td>\n",
       "      <td>11</td>\n",
       "      <td>1</td>\n",
       "    </tr>\n",
       "    <tr>\n",
       "      <th>1</th>\n",
       "      <td>2174</td>\n",
       "      <td>1954</td>\n",
       "      <td>Graduation</td>\n",
       "      <td>Single</td>\n",
       "      <td>46344.0</td>\n",
       "      <td>1</td>\n",
       "      <td>1</td>\n",
       "      <td>08-03-2014</td>\n",
       "      <td>38</td>\n",
       "      <td>11</td>\n",
       "      <td>...</td>\n",
       "      <td>5</td>\n",
       "      <td>0</td>\n",
       "      <td>0</td>\n",
       "      <td>0</td>\n",
       "      <td>0</td>\n",
       "      <td>0</td>\n",
       "      <td>0</td>\n",
       "      <td>3</td>\n",
       "      <td>11</td>\n",
       "      <td>0</td>\n",
       "    </tr>\n",
       "    <tr>\n",
       "      <th>2</th>\n",
       "      <td>4141</td>\n",
       "      <td>1965</td>\n",
       "      <td>Graduation</td>\n",
       "      <td>Together</td>\n",
       "      <td>71613.0</td>\n",
       "      <td>0</td>\n",
       "      <td>0</td>\n",
       "      <td>21-08-2013</td>\n",
       "      <td>26</td>\n",
       "      <td>426</td>\n",
       "      <td>...</td>\n",
       "      <td>4</td>\n",
       "      <td>0</td>\n",
       "      <td>0</td>\n",
       "      <td>0</td>\n",
       "      <td>0</td>\n",
       "      <td>0</td>\n",
       "      <td>0</td>\n",
       "      <td>3</td>\n",
       "      <td>11</td>\n",
       "      <td>0</td>\n",
       "    </tr>\n",
       "    <tr>\n",
       "      <th>3</th>\n",
       "      <td>6182</td>\n",
       "      <td>1984</td>\n",
       "      <td>Graduation</td>\n",
       "      <td>Together</td>\n",
       "      <td>26646.0</td>\n",
       "      <td>1</td>\n",
       "      <td>0</td>\n",
       "      <td>10-02-2014</td>\n",
       "      <td>26</td>\n",
       "      <td>11</td>\n",
       "      <td>...</td>\n",
       "      <td>6</td>\n",
       "      <td>0</td>\n",
       "      <td>0</td>\n",
       "      <td>0</td>\n",
       "      <td>0</td>\n",
       "      <td>0</td>\n",
       "      <td>0</td>\n",
       "      <td>3</td>\n",
       "      <td>11</td>\n",
       "      <td>0</td>\n",
       "    </tr>\n",
       "    <tr>\n",
       "      <th>4</th>\n",
       "      <td>5324</td>\n",
       "      <td>1981</td>\n",
       "      <td>PhD</td>\n",
       "      <td>Married</td>\n",
       "      <td>58293.0</td>\n",
       "      <td>1</td>\n",
       "      <td>0</td>\n",
       "      <td>19-01-2014</td>\n",
       "      <td>94</td>\n",
       "      <td>173</td>\n",
       "      <td>...</td>\n",
       "      <td>5</td>\n",
       "      <td>0</td>\n",
       "      <td>0</td>\n",
       "      <td>0</td>\n",
       "      <td>0</td>\n",
       "      <td>0</td>\n",
       "      <td>0</td>\n",
       "      <td>3</td>\n",
       "      <td>11</td>\n",
       "      <td>0</td>\n",
       "    </tr>\n",
       "  </tbody>\n",
       "</table>\n",
       "<p>5 rows × 29 columns</p>\n",
       "</div>"
      ],
      "text/plain": [
       "     ID  Year_Birth   Education Marital_Status   Income  Kidhome  Teenhome   \n",
       "0  5524        1957  Graduation         Single  58138.0        0         0  \\\n",
       "1  2174        1954  Graduation         Single  46344.0        1         1   \n",
       "2  4141        1965  Graduation       Together  71613.0        0         0   \n",
       "3  6182        1984  Graduation       Together  26646.0        1         0   \n",
       "4  5324        1981         PhD        Married  58293.0        1         0   \n",
       "\n",
       "  Dt_Customer  Recency  MntWines  ...  NumWebVisitsMonth  AcceptedCmp3   \n",
       "0  04-09-2012       58       635  ...                  7             0  \\\n",
       "1  08-03-2014       38        11  ...                  5             0   \n",
       "2  21-08-2013       26       426  ...                  4             0   \n",
       "3  10-02-2014       26        11  ...                  6             0   \n",
       "4  19-01-2014       94       173  ...                  5             0   \n",
       "\n",
       "   AcceptedCmp4  AcceptedCmp5  AcceptedCmp1  AcceptedCmp2  Complain   \n",
       "0             0             0             0             0         0  \\\n",
       "1             0             0             0             0         0   \n",
       "2             0             0             0             0         0   \n",
       "3             0             0             0             0         0   \n",
       "4             0             0             0             0         0   \n",
       "\n",
       "   Z_CostContact  Z_Revenue  Response  \n",
       "0              3         11         1  \n",
       "1              3         11         0  \n",
       "2              3         11         0  \n",
       "3              3         11         0  \n",
       "4              3         11         0  \n",
       "\n",
       "[5 rows x 29 columns]"
      ]
     },
     "execution_count": 72,
     "metadata": {},
     "output_type": "execute_result"
    }
   ],
   "source": [
    "df = pd.read_csv('Supermarket Customers.csv', sep='\\t')\n",
    "df.head()"
   ]
  },
  {
   "attachments": {},
   "cell_type": "markdown",
   "metadata": {},
   "source": [
    "# **Cleaning,change column's name and add necessary columns for analysis**"
   ]
  },
  {
   "attachments": {},
   "cell_type": "markdown",
   "metadata": {},
   "source": [
    "**See if there is null or missing row in every column**"
   ]
  },
  {
   "cell_type": "code",
   "execution_count": 73,
   "metadata": {},
   "outputs": [
    {
     "data": {
      "text/plain": [
       "ID                      0\n",
       "Year_Birth              0\n",
       "Education               0\n",
       "Marital_Status          0\n",
       "Income                 24\n",
       "Kidhome                 0\n",
       "Teenhome                0\n",
       "Dt_Customer             0\n",
       "Recency                 0\n",
       "MntWines                0\n",
       "MntFruits               0\n",
       "MntMeatProducts         0\n",
       "MntFishProducts         0\n",
       "MntSweetProducts        0\n",
       "MntGoldProds            0\n",
       "NumDealsPurchases       0\n",
       "NumWebPurchases         0\n",
       "NumCatalogPurchases     0\n",
       "NumStorePurchases       0\n",
       "NumWebVisitsMonth       0\n",
       "AcceptedCmp3            0\n",
       "AcceptedCmp4            0\n",
       "AcceptedCmp5            0\n",
       "AcceptedCmp1            0\n",
       "AcceptedCmp2            0\n",
       "Complain                0\n",
       "Z_CostContact           0\n",
       "Z_Revenue               0\n",
       "Response                0\n",
       "dtype: int64"
      ]
     },
     "execution_count": 73,
     "metadata": {},
     "output_type": "execute_result"
    }
   ],
   "source": [
    "df.isna().sum()"
   ]
  },
  {
   "attachments": {},
   "cell_type": "markdown",
   "metadata": {},
   "source": [
    "**There is  24 missing rows in Income column, so i will input the median of the income for every education, so it will make it more valid for all the missing columns**"
   ]
  },
  {
   "cell_type": "code",
   "execution_count": 74,
   "metadata": {},
   "outputs": [
    {
     "data": {
      "text/html": [
       "<div>\n",
       "<style scoped>\n",
       "    .dataframe tbody tr th:only-of-type {\n",
       "        vertical-align: middle;\n",
       "    }\n",
       "\n",
       "    .dataframe tbody tr th {\n",
       "        vertical-align: top;\n",
       "    }\n",
       "\n",
       "    .dataframe thead th {\n",
       "        text-align: right;\n",
       "    }\n",
       "</style>\n",
       "<table border=\"1\" class=\"dataframe\">\n",
       "  <thead>\n",
       "    <tr style=\"text-align: right;\">\n",
       "      <th></th>\n",
       "      <th>Income</th>\n",
       "      <th>Education</th>\n",
       "    </tr>\n",
       "  </thead>\n",
       "  <tbody>\n",
       "    <tr>\n",
       "      <th>10</th>\n",
       "      <td>NaN</td>\n",
       "      <td>Graduation</td>\n",
       "    </tr>\n",
       "    <tr>\n",
       "      <th>27</th>\n",
       "      <td>NaN</td>\n",
       "      <td>Graduation</td>\n",
       "    </tr>\n",
       "    <tr>\n",
       "      <th>43</th>\n",
       "      <td>NaN</td>\n",
       "      <td>PhD</td>\n",
       "    </tr>\n",
       "    <tr>\n",
       "      <th>48</th>\n",
       "      <td>NaN</td>\n",
       "      <td>Graduation</td>\n",
       "    </tr>\n",
       "    <tr>\n",
       "      <th>58</th>\n",
       "      <td>NaN</td>\n",
       "      <td>Graduation</td>\n",
       "    </tr>\n",
       "    <tr>\n",
       "      <th>71</th>\n",
       "      <td>NaN</td>\n",
       "      <td>2n Cycle</td>\n",
       "    </tr>\n",
       "    <tr>\n",
       "      <th>90</th>\n",
       "      <td>NaN</td>\n",
       "      <td>PhD</td>\n",
       "    </tr>\n",
       "    <tr>\n",
       "      <th>91</th>\n",
       "      <td>NaN</td>\n",
       "      <td>Graduation</td>\n",
       "    </tr>\n",
       "    <tr>\n",
       "      <th>92</th>\n",
       "      <td>NaN</td>\n",
       "      <td>Master</td>\n",
       "    </tr>\n",
       "    <tr>\n",
       "      <th>128</th>\n",
       "      <td>NaN</td>\n",
       "      <td>PhD</td>\n",
       "    </tr>\n",
       "    <tr>\n",
       "      <th>133</th>\n",
       "      <td>NaN</td>\n",
       "      <td>Graduation</td>\n",
       "    </tr>\n",
       "    <tr>\n",
       "      <th>312</th>\n",
       "      <td>NaN</td>\n",
       "      <td>Graduation</td>\n",
       "    </tr>\n",
       "    <tr>\n",
       "      <th>319</th>\n",
       "      <td>NaN</td>\n",
       "      <td>Graduation</td>\n",
       "    </tr>\n",
       "    <tr>\n",
       "      <th>1379</th>\n",
       "      <td>NaN</td>\n",
       "      <td>Master</td>\n",
       "    </tr>\n",
       "    <tr>\n",
       "      <th>1382</th>\n",
       "      <td>NaN</td>\n",
       "      <td>Graduation</td>\n",
       "    </tr>\n",
       "    <tr>\n",
       "      <th>1383</th>\n",
       "      <td>NaN</td>\n",
       "      <td>2n Cycle</td>\n",
       "    </tr>\n",
       "    <tr>\n",
       "      <th>1386</th>\n",
       "      <td>NaN</td>\n",
       "      <td>PhD</td>\n",
       "    </tr>\n",
       "    <tr>\n",
       "      <th>2059</th>\n",
       "      <td>NaN</td>\n",
       "      <td>Master</td>\n",
       "    </tr>\n",
       "    <tr>\n",
       "      <th>2061</th>\n",
       "      <td>NaN</td>\n",
       "      <td>PhD</td>\n",
       "    </tr>\n",
       "    <tr>\n",
       "      <th>2078</th>\n",
       "      <td>NaN</td>\n",
       "      <td>Graduation</td>\n",
       "    </tr>\n",
       "    <tr>\n",
       "      <th>2079</th>\n",
       "      <td>NaN</td>\n",
       "      <td>Master</td>\n",
       "    </tr>\n",
       "    <tr>\n",
       "      <th>2081</th>\n",
       "      <td>NaN</td>\n",
       "      <td>Graduation</td>\n",
       "    </tr>\n",
       "    <tr>\n",
       "      <th>2084</th>\n",
       "      <td>NaN</td>\n",
       "      <td>Master</td>\n",
       "    </tr>\n",
       "    <tr>\n",
       "      <th>2228</th>\n",
       "      <td>NaN</td>\n",
       "      <td>2n Cycle</td>\n",
       "    </tr>\n",
       "  </tbody>\n",
       "</table>\n",
       "</div>"
      ],
      "text/plain": [
       "      Income   Education\n",
       "10       NaN  Graduation\n",
       "27       NaN  Graduation\n",
       "43       NaN         PhD\n",
       "48       NaN  Graduation\n",
       "58       NaN  Graduation\n",
       "71       NaN    2n Cycle\n",
       "90       NaN         PhD\n",
       "91       NaN  Graduation\n",
       "92       NaN      Master\n",
       "128      NaN         PhD\n",
       "133      NaN  Graduation\n",
       "312      NaN  Graduation\n",
       "319      NaN  Graduation\n",
       "1379     NaN      Master\n",
       "1382     NaN  Graduation\n",
       "1383     NaN    2n Cycle\n",
       "1386     NaN         PhD\n",
       "2059     NaN      Master\n",
       "2061     NaN         PhD\n",
       "2078     NaN  Graduation\n",
       "2079     NaN      Master\n",
       "2081     NaN  Graduation\n",
       "2084     NaN      Master\n",
       "2228     NaN    2n Cycle"
      ]
     },
     "execution_count": 74,
     "metadata": {},
     "output_type": "execute_result"
    }
   ],
   "source": [
    "# see the education of every missing columns in income\n",
    "df[df['Income'].isnull()][['Income', 'Education']]"
   ]
  },
  {
   "attachments": {},
   "cell_type": "markdown",
   "metadata": {},
   "source": [
    "**Median per education**"
   ]
  },
  {
   "cell_type": "code",
   "execution_count": 75,
   "metadata": {},
   "outputs": [
    {
     "data": {
      "text/html": [
       "<div>\n",
       "<style scoped>\n",
       "    .dataframe tbody tr th:only-of-type {\n",
       "        vertical-align: middle;\n",
       "    }\n",
       "\n",
       "    .dataframe tbody tr th {\n",
       "        vertical-align: top;\n",
       "    }\n",
       "\n",
       "    .dataframe thead th {\n",
       "        text-align: right;\n",
       "    }\n",
       "</style>\n",
       "<table border=\"1\" class=\"dataframe\">\n",
       "  <thead>\n",
       "    <tr style=\"text-align: right;\">\n",
       "      <th></th>\n",
       "      <th>Income</th>\n",
       "    </tr>\n",
       "    <tr>\n",
       "      <th>Education</th>\n",
       "      <th></th>\n",
       "    </tr>\n",
       "  </thead>\n",
       "  <tbody>\n",
       "    <tr>\n",
       "      <th>2n Cycle</th>\n",
       "      <td>46805.0</td>\n",
       "    </tr>\n",
       "    <tr>\n",
       "      <th>Basic</th>\n",
       "      <td>20744.0</td>\n",
       "    </tr>\n",
       "    <tr>\n",
       "      <th>Graduation</th>\n",
       "      <td>52028.5</td>\n",
       "    </tr>\n",
       "    <tr>\n",
       "      <th>Master</th>\n",
       "      <td>50943.0</td>\n",
       "    </tr>\n",
       "    <tr>\n",
       "      <th>PhD</th>\n",
       "      <td>55212.0</td>\n",
       "    </tr>\n",
       "  </tbody>\n",
       "</table>\n",
       "</div>"
      ],
      "text/plain": [
       "             Income\n",
       "Education          \n",
       "2n Cycle    46805.0\n",
       "Basic       20744.0\n",
       "Graduation  52028.5\n",
       "Master      50943.0\n",
       "PhD         55212.0"
      ]
     },
     "execution_count": 75,
     "metadata": {},
     "output_type": "execute_result"
    }
   ],
   "source": [
    "#median per education.\n",
    "df[['Income', 'Education']].groupby('Education').median()"
   ]
  },
  {
   "cell_type": "code",
   "execution_count": 76,
   "metadata": {},
   "outputs": [
    {
     "data": {
      "text/plain": [
       "0"
      ]
     },
     "execution_count": 76,
     "metadata": {},
     "output_type": "execute_result"
    }
   ],
   "source": [
    "#input the missing columns with the median based on their education\n",
    "df['Income'] = df.groupby('Education')['Income'].transform(lambda x: x.fillna(x.median()))\n",
    "df['Income'].isnull().sum() #double check the missing columns, it is now 0 after being filled with the median based on the education\n"
   ]
  },
  {
   "attachments": {},
   "cell_type": "markdown",
   "metadata": {},
   "source": [
    " **Response in the columns means the last campaign, so i will rename it**"
   ]
  },
  {
   "cell_type": "code",
   "execution_count": 77,
   "metadata": {},
   "outputs": [],
   "source": [
    "df.rename(columns={'Response': 'Last_Campaign'}, inplace=True)\n"
   ]
  },
  {
   "attachments": {},
   "cell_type": "markdown",
   "metadata": {},
   "source": [
    "**change the dtype of Dt_Customer into datetime for knowing the first and last purchase in order to know the period of the purchases.**"
   ]
  },
  {
   "cell_type": "code",
   "execution_count": 78,
   "metadata": {},
   "outputs": [
    {
     "name": "stdout",
     "output_type": "stream",
     "text": [
      "first dan last purchase = 2012-07-30 00:00:00 dan 2014-06-29 00:00:00\n"
     ]
    }
   ],
   "source": [
    "df['Dt_Customer'] = pd.to_datetime(df['Dt_Customer'], format='%d-%m-%Y')\n",
    "\n",
    "first_purchase = df['Dt_Customer'].min()\n",
    "last_purchase = df['Dt_Customer'].max()\n",
    "print(f'first dan last purchase = {first_purchase} dan {last_purchase}') #Now we know that the data is from July 2012 - June 2014.\n"
   ]
  },
  {
   "attachments": {},
   "cell_type": "markdown",
   "metadata": {},
   "source": [
    "**add new columns named campaign_participation that sum all the six campaigns to know the participation rate of the customers**"
   ]
  },
  {
   "cell_type": "code",
   "execution_count": 79,
   "metadata": {},
   "outputs": [
    {
     "data": {
      "text/plain": [
       "campaign_participation\n",
       "0    1631\n",
       "1     370\n",
       "2     142\n",
       "3      51\n",
       "4      36\n",
       "5      10\n",
       "Name: count, dtype: int64"
      ]
     },
     "execution_count": 79,
     "metadata": {},
     "output_type": "execute_result"
    }
   ],
   "source": [
    "#Make new column of total participation campaign\n",
    "\n",
    "df['campaign_participation'] = df['AcceptedCmp1'] + df['AcceptedCmp2'] + df['AcceptedCmp3'] + df['AcceptedCmp4'] + df['AcceptedCmp5'] + df['Last_Campaign']\n",
    "df['campaign_participation'].value_counts() # This shows that there is no single customer that joins all the campaigns, the maximum is 5 campaigns with only 10 customers"
   ]
  },
  {
   "attachments": {},
   "cell_type": "markdown",
   "metadata": {},
   "source": [
    "**Classified the generation (making a new column) based on the year birth.**"
   ]
  },
  {
   "cell_type": "code",
   "execution_count": 80,
   "metadata": {},
   "outputs": [],
   "source": [
    "def year_to_gen(year):\n",
    "    if 0<= year <= 1945:\n",
    "        return 'Silent'\n",
    "    elif 1946 <= year <= 1964:\n",
    "        return 'Boomers'\n",
    "    elif 1965 <= year <= 1980:\n",
    "        return 'Gen X'\n",
    "    elif 1981 <= year <= 1996:\n",
    "        return 'Millennials'\n",
    "    elif 1997 <= year <= 2012:\n",
    "        return 'Gen Z'\n",
    "    \n",
    "\n",
    "Generation = df['Year_Birth'].apply(year_to_gen)\n",
    "\n",
    "df.insert(loc=2, column='Generation', value=Generation)"
   ]
  },
  {
   "cell_type": "code",
   "execution_count": 81,
   "metadata": {},
   "outputs": [
    {
     "data": {
      "text/plain": [
       "Generation\n",
       "Gen X          1069\n",
       "Boomers         759\n",
       "Millennials     385\n",
       "Silent           27\n",
       "Name: count, dtype: int64"
      ]
     },
     "execution_count": 81,
     "metadata": {},
     "output_type": "execute_result"
    }
   ],
   "source": [
    "df['Generation'].value_counts()"
   ]
  },
  {
   "attachments": {},
   "cell_type": "markdown",
   "metadata": {},
   "source": [
    "**Add new columns named Total_Kids that combines the Teenhome and kidhome for knowing how many people the customers are living with**"
   ]
  },
  {
   "cell_type": "code",
   "execution_count": 82,
   "metadata": {},
   "outputs": [
    {
     "data": {
      "text/plain": [
       "Total_kids\n",
       "1    1128\n",
       "0     638\n",
       "2     421\n",
       "3      53\n",
       "Name: count, dtype: int64"
      ]
     },
     "execution_count": 82,
     "metadata": {},
     "output_type": "execute_result"
    }
   ],
   "source": [
    "df['Total_kids'] = df['Teenhome'] + df['Kidhome']\n",
    "df['Total_kids'].value_counts()"
   ]
  },
  {
   "attachments": {},
   "cell_type": "markdown",
   "metadata": {},
   "source": [
    "# **Check overview data**"
   ]
  },
  {
   "cell_type": "code",
   "execution_count": 83,
   "metadata": {},
   "outputs": [
    {
     "name": "stdout",
     "output_type": "stream",
     "text": [
      "<class 'pandas.core.frame.DataFrame'>\n",
      "RangeIndex: 2240 entries, 0 to 2239\n",
      "Data columns (total 32 columns):\n",
      " #   Column                  Non-Null Count  Dtype         \n",
      "---  ------                  --------------  -----         \n",
      " 0   ID                      2240 non-null   int64         \n",
      " 1   Year_Birth              2240 non-null   int64         \n",
      " 2   Generation              2240 non-null   object        \n",
      " 3   Education               2240 non-null   object        \n",
      " 4   Marital_Status          2240 non-null   object        \n",
      " 5   Income                  2240 non-null   float64       \n",
      " 6   Kidhome                 2240 non-null   int64         \n",
      " 7   Teenhome                2240 non-null   int64         \n",
      " 8   Dt_Customer             2240 non-null   datetime64[ns]\n",
      " 9   Recency                 2240 non-null   int64         \n",
      " 10  MntWines                2240 non-null   int64         \n",
      " 11  MntFruits               2240 non-null   int64         \n",
      " 12  MntMeatProducts         2240 non-null   int64         \n",
      " 13  MntFishProducts         2240 non-null   int64         \n",
      " 14  MntSweetProducts        2240 non-null   int64         \n",
      " 15  MntGoldProds            2240 non-null   int64         \n",
      " 16  NumDealsPurchases       2240 non-null   int64         \n",
      " 17  NumWebPurchases         2240 non-null   int64         \n",
      " 18  NumCatalogPurchases     2240 non-null   int64         \n",
      " 19  NumStorePurchases       2240 non-null   int64         \n",
      " 20  NumWebVisitsMonth       2240 non-null   int64         \n",
      " 21  AcceptedCmp3            2240 non-null   int64         \n",
      " 22  AcceptedCmp4            2240 non-null   int64         \n",
      " 23  AcceptedCmp5            2240 non-null   int64         \n",
      " 24  AcceptedCmp1            2240 non-null   int64         \n",
      " 25  AcceptedCmp2            2240 non-null   int64         \n",
      " 26  Complain                2240 non-null   int64         \n",
      " 27  Z_CostContact           2240 non-null   int64         \n",
      " 28  Z_Revenue               2240 non-null   int64         \n",
      " 29  Last_Campaign           2240 non-null   int64         \n",
      " 30  campaign_participation  2240 non-null   int64         \n",
      " 31  Total_kids              2240 non-null   int64         \n",
      "dtypes: datetime64[ns](1), float64(1), int64(27), object(3)\n",
      "memory usage: 560.1+ KB\n"
     ]
    }
   ],
   "source": [
    "df.info()"
   ]
  },
  {
   "cell_type": "code",
   "execution_count": 84,
   "metadata": {},
   "outputs": [
    {
     "data": {
      "text/html": [
       "<div>\n",
       "<style scoped>\n",
       "    .dataframe tbody tr th:only-of-type {\n",
       "        vertical-align: middle;\n",
       "    }\n",
       "\n",
       "    .dataframe tbody tr th {\n",
       "        vertical-align: top;\n",
       "    }\n",
       "\n",
       "    .dataframe thead th {\n",
       "        text-align: right;\n",
       "    }\n",
       "</style>\n",
       "<table border=\"1\" class=\"dataframe\">\n",
       "  <thead>\n",
       "    <tr style=\"text-align: right;\">\n",
       "      <th></th>\n",
       "      <th>ID</th>\n",
       "      <th>Year_Birth</th>\n",
       "      <th>Income</th>\n",
       "      <th>Kidhome</th>\n",
       "      <th>Teenhome</th>\n",
       "      <th>Dt_Customer</th>\n",
       "      <th>Recency</th>\n",
       "      <th>MntWines</th>\n",
       "      <th>MntFruits</th>\n",
       "      <th>MntMeatProducts</th>\n",
       "      <th>...</th>\n",
       "      <th>AcceptedCmp4</th>\n",
       "      <th>AcceptedCmp5</th>\n",
       "      <th>AcceptedCmp1</th>\n",
       "      <th>AcceptedCmp2</th>\n",
       "      <th>Complain</th>\n",
       "      <th>Z_CostContact</th>\n",
       "      <th>Z_Revenue</th>\n",
       "      <th>Last_Campaign</th>\n",
       "      <th>campaign_participation</th>\n",
       "      <th>Total_kids</th>\n",
       "    </tr>\n",
       "  </thead>\n",
       "  <tbody>\n",
       "    <tr>\n",
       "      <th>count</th>\n",
       "      <td>2240.000000</td>\n",
       "      <td>2240.000000</td>\n",
       "      <td>2240.000000</td>\n",
       "      <td>2240.000000</td>\n",
       "      <td>2240.000000</td>\n",
       "      <td>2240</td>\n",
       "      <td>2240.000000</td>\n",
       "      <td>2240.000000</td>\n",
       "      <td>2240.000000</td>\n",
       "      <td>2240.000000</td>\n",
       "      <td>...</td>\n",
       "      <td>2240.000000</td>\n",
       "      <td>2240.000000</td>\n",
       "      <td>2240.000000</td>\n",
       "      <td>2240.000000</td>\n",
       "      <td>2240.000000</td>\n",
       "      <td>2240.0</td>\n",
       "      <td>2240.0</td>\n",
       "      <td>2240.000000</td>\n",
       "      <td>2240.000000</td>\n",
       "      <td>2240.000000</td>\n",
       "    </tr>\n",
       "    <tr>\n",
       "      <th>mean</th>\n",
       "      <td>5592.159821</td>\n",
       "      <td>1968.805804</td>\n",
       "      <td>52242.594866</td>\n",
       "      <td>0.444196</td>\n",
       "      <td>0.506250</td>\n",
       "      <td>2013-07-10 10:01:42.857142784</td>\n",
       "      <td>49.109375</td>\n",
       "      <td>303.935714</td>\n",
       "      <td>26.302232</td>\n",
       "      <td>166.950000</td>\n",
       "      <td>...</td>\n",
       "      <td>0.074554</td>\n",
       "      <td>0.072768</td>\n",
       "      <td>0.064286</td>\n",
       "      <td>0.013393</td>\n",
       "      <td>0.009375</td>\n",
       "      <td>3.0</td>\n",
       "      <td>11.0</td>\n",
       "      <td>0.149107</td>\n",
       "      <td>0.446875</td>\n",
       "      <td>0.950446</td>\n",
       "    </tr>\n",
       "    <tr>\n",
       "      <th>min</th>\n",
       "      <td>0.000000</td>\n",
       "      <td>1893.000000</td>\n",
       "      <td>1730.000000</td>\n",
       "      <td>0.000000</td>\n",
       "      <td>0.000000</td>\n",
       "      <td>2012-07-30 00:00:00</td>\n",
       "      <td>0.000000</td>\n",
       "      <td>0.000000</td>\n",
       "      <td>0.000000</td>\n",
       "      <td>0.000000</td>\n",
       "      <td>...</td>\n",
       "      <td>0.000000</td>\n",
       "      <td>0.000000</td>\n",
       "      <td>0.000000</td>\n",
       "      <td>0.000000</td>\n",
       "      <td>0.000000</td>\n",
       "      <td>3.0</td>\n",
       "      <td>11.0</td>\n",
       "      <td>0.000000</td>\n",
       "      <td>0.000000</td>\n",
       "      <td>0.000000</td>\n",
       "    </tr>\n",
       "    <tr>\n",
       "      <th>25%</th>\n",
       "      <td>2828.250000</td>\n",
       "      <td>1959.000000</td>\n",
       "      <td>35538.750000</td>\n",
       "      <td>0.000000</td>\n",
       "      <td>0.000000</td>\n",
       "      <td>2013-01-16 00:00:00</td>\n",
       "      <td>24.000000</td>\n",
       "      <td>23.750000</td>\n",
       "      <td>1.000000</td>\n",
       "      <td>16.000000</td>\n",
       "      <td>...</td>\n",
       "      <td>0.000000</td>\n",
       "      <td>0.000000</td>\n",
       "      <td>0.000000</td>\n",
       "      <td>0.000000</td>\n",
       "      <td>0.000000</td>\n",
       "      <td>3.0</td>\n",
       "      <td>11.0</td>\n",
       "      <td>0.000000</td>\n",
       "      <td>0.000000</td>\n",
       "      <td>0.000000</td>\n",
       "    </tr>\n",
       "    <tr>\n",
       "      <th>50%</th>\n",
       "      <td>5458.500000</td>\n",
       "      <td>1970.000000</td>\n",
       "      <td>51498.500000</td>\n",
       "      <td>0.000000</td>\n",
       "      <td>0.000000</td>\n",
       "      <td>2013-07-08 12:00:00</td>\n",
       "      <td>49.000000</td>\n",
       "      <td>173.500000</td>\n",
       "      <td>8.000000</td>\n",
       "      <td>67.000000</td>\n",
       "      <td>...</td>\n",
       "      <td>0.000000</td>\n",
       "      <td>0.000000</td>\n",
       "      <td>0.000000</td>\n",
       "      <td>0.000000</td>\n",
       "      <td>0.000000</td>\n",
       "      <td>3.0</td>\n",
       "      <td>11.0</td>\n",
       "      <td>0.000000</td>\n",
       "      <td>0.000000</td>\n",
       "      <td>1.000000</td>\n",
       "    </tr>\n",
       "    <tr>\n",
       "      <th>75%</th>\n",
       "      <td>8427.750000</td>\n",
       "      <td>1977.000000</td>\n",
       "      <td>68289.750000</td>\n",
       "      <td>1.000000</td>\n",
       "      <td>1.000000</td>\n",
       "      <td>2013-12-30 06:00:00</td>\n",
       "      <td>74.000000</td>\n",
       "      <td>504.250000</td>\n",
       "      <td>33.000000</td>\n",
       "      <td>232.000000</td>\n",
       "      <td>...</td>\n",
       "      <td>0.000000</td>\n",
       "      <td>0.000000</td>\n",
       "      <td>0.000000</td>\n",
       "      <td>0.000000</td>\n",
       "      <td>0.000000</td>\n",
       "      <td>3.0</td>\n",
       "      <td>11.0</td>\n",
       "      <td>0.000000</td>\n",
       "      <td>1.000000</td>\n",
       "      <td>1.000000</td>\n",
       "    </tr>\n",
       "    <tr>\n",
       "      <th>max</th>\n",
       "      <td>11191.000000</td>\n",
       "      <td>1996.000000</td>\n",
       "      <td>666666.000000</td>\n",
       "      <td>2.000000</td>\n",
       "      <td>2.000000</td>\n",
       "      <td>2014-06-29 00:00:00</td>\n",
       "      <td>99.000000</td>\n",
       "      <td>1493.000000</td>\n",
       "      <td>199.000000</td>\n",
       "      <td>1725.000000</td>\n",
       "      <td>...</td>\n",
       "      <td>1.000000</td>\n",
       "      <td>1.000000</td>\n",
       "      <td>1.000000</td>\n",
       "      <td>1.000000</td>\n",
       "      <td>1.000000</td>\n",
       "      <td>3.0</td>\n",
       "      <td>11.0</td>\n",
       "      <td>1.000000</td>\n",
       "      <td>5.000000</td>\n",
       "      <td>3.000000</td>\n",
       "    </tr>\n",
       "    <tr>\n",
       "      <th>std</th>\n",
       "      <td>3246.662198</td>\n",
       "      <td>11.984069</td>\n",
       "      <td>25039.061738</td>\n",
       "      <td>0.538398</td>\n",
       "      <td>0.544538</td>\n",
       "      <td>NaN</td>\n",
       "      <td>28.962453</td>\n",
       "      <td>336.597393</td>\n",
       "      <td>39.773434</td>\n",
       "      <td>225.715373</td>\n",
       "      <td>...</td>\n",
       "      <td>0.262728</td>\n",
       "      <td>0.259813</td>\n",
       "      <td>0.245316</td>\n",
       "      <td>0.114976</td>\n",
       "      <td>0.096391</td>\n",
       "      <td>0.0</td>\n",
       "      <td>0.0</td>\n",
       "      <td>0.356274</td>\n",
       "      <td>0.890543</td>\n",
       "      <td>0.751803</td>\n",
       "    </tr>\n",
       "  </tbody>\n",
       "</table>\n",
       "<p>8 rows × 29 columns</p>\n",
       "</div>"
      ],
      "text/plain": [
       "                 ID   Year_Birth         Income      Kidhome     Teenhome   \n",
       "count   2240.000000  2240.000000    2240.000000  2240.000000  2240.000000  \\\n",
       "mean    5592.159821  1968.805804   52242.594866     0.444196     0.506250   \n",
       "min        0.000000  1893.000000    1730.000000     0.000000     0.000000   \n",
       "25%     2828.250000  1959.000000   35538.750000     0.000000     0.000000   \n",
       "50%     5458.500000  1970.000000   51498.500000     0.000000     0.000000   \n",
       "75%     8427.750000  1977.000000   68289.750000     1.000000     1.000000   \n",
       "max    11191.000000  1996.000000  666666.000000     2.000000     2.000000   \n",
       "std     3246.662198    11.984069   25039.061738     0.538398     0.544538   \n",
       "\n",
       "                         Dt_Customer      Recency     MntWines    MntFruits   \n",
       "count                           2240  2240.000000  2240.000000  2240.000000  \\\n",
       "mean   2013-07-10 10:01:42.857142784    49.109375   303.935714    26.302232   \n",
       "min              2012-07-30 00:00:00     0.000000     0.000000     0.000000   \n",
       "25%              2013-01-16 00:00:00    24.000000    23.750000     1.000000   \n",
       "50%              2013-07-08 12:00:00    49.000000   173.500000     8.000000   \n",
       "75%              2013-12-30 06:00:00    74.000000   504.250000    33.000000   \n",
       "max              2014-06-29 00:00:00    99.000000  1493.000000   199.000000   \n",
       "std                              NaN    28.962453   336.597393    39.773434   \n",
       "\n",
       "       MntMeatProducts  ...  AcceptedCmp4  AcceptedCmp5  AcceptedCmp1   \n",
       "count      2240.000000  ...   2240.000000   2240.000000   2240.000000  \\\n",
       "mean        166.950000  ...      0.074554      0.072768      0.064286   \n",
       "min           0.000000  ...      0.000000      0.000000      0.000000   \n",
       "25%          16.000000  ...      0.000000      0.000000      0.000000   \n",
       "50%          67.000000  ...      0.000000      0.000000      0.000000   \n",
       "75%         232.000000  ...      0.000000      0.000000      0.000000   \n",
       "max        1725.000000  ...      1.000000      1.000000      1.000000   \n",
       "std         225.715373  ...      0.262728      0.259813      0.245316   \n",
       "\n",
       "       AcceptedCmp2     Complain  Z_CostContact  Z_Revenue  Last_Campaign   \n",
       "count   2240.000000  2240.000000         2240.0     2240.0    2240.000000  \\\n",
       "mean       0.013393     0.009375            3.0       11.0       0.149107   \n",
       "min        0.000000     0.000000            3.0       11.0       0.000000   \n",
       "25%        0.000000     0.000000            3.0       11.0       0.000000   \n",
       "50%        0.000000     0.000000            3.0       11.0       0.000000   \n",
       "75%        0.000000     0.000000            3.0       11.0       0.000000   \n",
       "max        1.000000     1.000000            3.0       11.0       1.000000   \n",
       "std        0.114976     0.096391            0.0        0.0       0.356274   \n",
       "\n",
       "       campaign_participation   Total_kids  \n",
       "count             2240.000000  2240.000000  \n",
       "mean                 0.446875     0.950446  \n",
       "min                  0.000000     0.000000  \n",
       "25%                  0.000000     0.000000  \n",
       "50%                  0.000000     1.000000  \n",
       "75%                  1.000000     1.000000  \n",
       "max                  5.000000     3.000000  \n",
       "std                  0.890543     0.751803  \n",
       "\n",
       "[8 rows x 29 columns]"
      ]
     },
     "execution_count": 84,
     "metadata": {},
     "output_type": "execute_result"
    }
   ],
   "source": [
    "df.describe()"
   ]
  },
  {
   "attachments": {},
   "cell_type": "markdown",
   "metadata": {},
   "source": [
    "# **Marital Status of Customers**"
   ]
  },
  {
   "attachments": {},
   "cell_type": "markdown",
   "metadata": {},
   "source": [
    "**Dictionary about Marital Status**\n",
    "\n",
    "\n",
    "Married: The individual is currently married.\n",
    "\n",
    "Together: The individual is in a committed relationship, possibly cohabitating, but not legally married.\n",
    "\n",
    "Single: The individual is not currently in a committed relationship or married.\n",
    "\n",
    "Divorced: The individual was previously married but is now legally divorced.\n",
    "\n",
    "Widow: The individual's spouse has passed away, and they have not remarried (this is gender-neutral; it could be used for either a man or a woman).\n",
    "\n",
    "Alone: This could possibly mean that the individual prefers to be alone, i.e., they are not in a relationship and do not wish to be in one. \n",
    "\n",
    "Absurd: This is not a standard category and it's unclear what it might represent in this context. It may be a placeholder for invalid or nonsensical responses.\n",
    "\n",
    "YOLO: This stands for \"You Only Live Once\". It's often used to express the idea that one should make the most of the present moment without worrying too much about the future. As a marital status, it is unclear what this might represent. It could potentially mean that the individual is not interested in being in a committed relationship or does not believe in the concept of marital statuses.\n",
    "\n",
    "\n",
    "**Actually im going to combine absurd, yolo, and alone into 'single' because it simply means the same as we divide marital status simply just to know whether they are living with theirselves or with their families.**"
   ]
  },
  {
   "cell_type": "code",
   "execution_count": 85,
   "metadata": {},
   "outputs": [
    {
     "data": {
      "text/plain": [
       "Marital_Status\n",
       "Married     864\n",
       "Together    580\n",
       "Single      480\n",
       "Divorced    232\n",
       "Widow        77\n",
       "Alone         3\n",
       "Absurd        2\n",
       "YOLO          2\n",
       "Name: count, dtype: int64"
      ]
     },
     "execution_count": 85,
     "metadata": {},
     "output_type": "execute_result"
    }
   ],
   "source": [
    "df['Marital_Status'].value_counts()"
   ]
  },
  {
   "cell_type": "code",
   "execution_count": 86,
   "metadata": {},
   "outputs": [
    {
     "data": {
      "text/plain": [
       "Marital_Status\n",
       "Married     864\n",
       "Together    580\n",
       "Single      487\n",
       "Divorced    232\n",
       "Widow        77\n",
       "Name: count, dtype: int64"
      ]
     },
     "execution_count": 86,
     "metadata": {},
     "output_type": "execute_result"
    }
   ],
   "source": [
    "#combining absurd, yolo and alone into single to make it simpler for the analysis \n",
    "#in analyzing the supermarket store, we only want to know whether they are living alone or with someone.\n",
    "\n",
    "df['Marital_Status'] = df['Marital_Status'].replace(['YOLO', 'Absurd', 'Alone'], 'Single')\n",
    "df['Marital_Status'].value_counts() #new value counts of marital status"
   ]
  },
  {
   "attachments": {},
   "cell_type": "markdown",
   "metadata": {},
   "source": [
    "**Visualize it into pie chart, to know more about the majority of marital status**"
   ]
  },
  {
   "cell_type": "code",
   "execution_count": 87,
   "metadata": {},
   "outputs": [
    {
     "data": {
      "image/png": "[encoded data removed]",
      "text/plain": [
       "<Figure size 640x480 with 1 Axes>"
      ]
     },
     "metadata": {},
     "output_type": "display_data"
    }
   ],
   "source": [
    "plt.pie(df['Marital_Status'].value_counts(), autopct='%1.1f%%')\n",
    "\n",
    "plt.axis('equal')  # Equal aspect ratio ensures that pie is drawn as a circle.\n",
    "\n",
    "# Create legend with labels outside\n",
    "plt.legend(loc=\"center left\", labels=df['Marital_Status'].value_counts().index, bbox_to_anchor=(1, 0, 0.5, 1))\n",
    "plt.title('Marital Status')\n",
    "\n",
    "plt.show()\n",
    "#From the data we can know that the majority of the customers are living together or married."
   ]
  },
  {
   "attachments": {},
   "cell_type": "markdown",
   "metadata": {},
   "source": [
    "**From the pie chart above, most of the customers are either living together or married. So it will probably be necessary to make segmented campaigns for those who have already had kids.**"
   ]
  },
  {
   "attachments": {},
   "cell_type": "markdown",
   "metadata": {},
   "source": [
    "# **Qualification (Education) of the customers**"
   ]
  },
  {
   "cell_type": "code",
   "execution_count": 88,
   "metadata": {},
   "outputs": [
    {
     "data": {
      "image/png": "[encoded data removed]",
      "text/plain": [
       "<Figure size 640x480 with 1 Axes>"
      ]
     },
     "metadata": {},
     "output_type": "display_data"
    }
   ],
   "source": [
    "plt.pie(df['Education'].value_counts(), autopct='%1.1f%%')\n",
    "\n",
    "plt.axis('equal')  # so make it a whole circle\n",
    "\n",
    "# Create legend for labels outside\n",
    "plt.legend(loc=\"center left\", labels=df['Education'].value_counts().index, bbox_to_anchor=(1, 0, 0.5, 1))\n",
    "plt.title('Education')\n",
    "\n",
    "plt.show()\n"
   ]
  },
  {
   "attachments": {},
   "cell_type": "markdown",
   "metadata": {},
   "source": [
    "# **Generation of the customers in the supermarket store**"
   ]
  },
  {
   "cell_type": "code",
   "execution_count": 89,
   "metadata": {},
   "outputs": [
    {
     "data": {
      "image/png": "[encoded data removed]",
      "text/plain": [
       "<Figure size 640x480 with 1 Axes>"
      ]
     },
     "metadata": {},
     "output_type": "display_data"
    }
   ],
   "source": [
    "plt.pie(df['Generation'].value_counts(), autopct='%1.1f%%')\n",
    "\n",
    "plt.axis('equal')  # Equal aspect ratio ensures that pie is drawn as a circle.\n",
    "\n",
    "# Create legend with labels outside\n",
    "plt.legend(loc=\"center left\", labels=df['Generation'].value_counts().index, bbox_to_anchor=(1, 0, 0.5, 1))\n",
    "plt.title('Generation')\n",
    "\n",
    "plt.show()"
   ]
  },
  {
   "attachments": {},
   "cell_type": "markdown",
   "metadata": {},
   "source": [
    "**Most of the customers are either in Gen X (year birth between 1965 - 1980) or Boomers (year birth between 1946 - 1964)**"
   ]
  },
  {
   "attachments": {},
   "cell_type": "markdown",
   "metadata": {},
   "source": [
    "# **Supermarket Store service, measured by total complains**"
   ]
  },
  {
   "cell_type": "code",
   "execution_count": 90,
   "metadata": {},
   "outputs": [
    {
     "data": {
      "text/plain": [
       "Complain\n",
       "0    2219\n",
       "1      21\n",
       "Name: count, dtype: int64"
      ]
     },
     "metadata": {},
     "output_type": "display_data"
    },
    {
     "data": {
      "image/png": "[encoded data removed]",
      "text/plain": [
       "<Figure size 1000x800 with 1 Axes>"
      ]
     },
     "metadata": {},
     "output_type": "display_data"
    }
   ],
   "source": [
    "display(df['Complain'].value_counts())\n",
    "\n",
    "complain_counts = df['Complain'].value_counts().rename({0: 'Not Complain', 1: 'Complain'})\n",
    "\n",
    "# Create the pie chart\n",
    "plt.figure(figsize=(10, 8))\n",
    "plt.pie(complain_counts, labels=complain_counts.index, autopct='%1.1f%%', startangle=90)\n",
    "plt.title(\"Customer's complaint distribution over the last two years\")\n",
    "plt.show()\n"
   ]
  },
  {
   "attachments": {},
   "cell_type": "markdown",
   "metadata": {},
   "source": [
    "**Find out the 21 customers' background, to know why they are complaining and can find a solution to increase the services**\n",
    "\n",
    "**from the data, it is known that the supermarket's services is satisfied as only 0.9% of total customers who complained**"
   ]
  },
  {
   "cell_type": "code",
   "execution_count": 91,
   "metadata": {},
   "outputs": [
    {
     "data": {
      "text/plain": [
       "Complain  Generation   Education \n",
       "1         Boomers      Graduation    9\n",
       "          Gen X        Graduation    4\n",
       "          Millennials  2n Cycle      2\n",
       "          Gen X        2n Cycle      1\n",
       "          Millennials  Graduation    1\n",
       "                       Master        1\n",
       "                       PhD           1\n",
       "          Silent       2n Cycle      1\n",
       "                       Master        1\n",
       "Name: count, dtype: int64"
      ]
     },
     "execution_count": 91,
     "metadata": {},
     "output_type": "execute_result"
    }
   ],
   "source": [
    "df[df['Complain'] == 1][['Complain','Generation','Education']].value_counts()\n",
    "\n"
   ]
  },
  {
   "attachments": {},
   "cell_type": "markdown",
   "metadata": {},
   "source": [
    "**This shows that Booomers and Graduation (demographically) are the most ones who complained, which is 9/21 =  42.857%.**\n",
    "\n",
    "**The supermarket's owner should give them some questionnaire regarding their services, and state their complains, so that the supermarket's service will increase to 100%**"
   ]
  },
  {
   "attachments": {},
   "cell_type": "markdown",
   "metadata": {},
   "source": [
    "**Visualize Total_Kids to know the proportion of total kids the customers have**"
   ]
  },
  {
   "cell_type": "code",
   "execution_count": 92,
   "metadata": {},
   "outputs": [
    {
     "data": {
      "image/png": "[encoded data removed]",
      "text/plain": [
       "<Figure size 640x480 with 1 Axes>"
      ]
     },
     "metadata": {},
     "output_type": "display_data"
    }
   ],
   "source": [
    "plt.pie(df['Total_kids'].value_counts(), autopct='%1.1f%%')\n",
    "\n",
    "plt.axis('equal')  # Equal aspect ratio ensures that pie is drawn as a circle.\n",
    "\n",
    "# Create legend with labels outside\n",
    "plt.legend(loc=\"center left\", labels=df['Total_kids'].value_counts().index, bbox_to_anchor=(1, 0, 0.5, 1))\n",
    "plt.title(\"total of kids (teenagers and kids) at home\")\n",
    "plt.show()\n"
   ]
  },
  {
   "attachments": {},
   "cell_type": "markdown",
   "metadata": {},
   "source": [
    "**From the pie chart, we can see that most of the customers (50.4%) have 1 kid and only 18.8% customers who don't have any kids.**\n",
    "\n",
    "**This is matched by the analysis before regarding the customers' marital status**"
   ]
  },
  {
   "attachments": {},
   "cell_type": "markdown",
   "metadata": {},
   "source": [
    "# **ANALYSIS DATA**"
   ]
  },
  {
   "attachments": {},
   "cell_type": "markdown",
   "metadata": {},
   "source": [
    "**Connection between total kids and total campaign participation**\n",
    "\n",
    "The formula is (*6) because there is a total of 6 campaigns."
   ]
  },
  {
   "cell_type": "code",
   "execution_count": 93,
   "metadata": {},
   "outputs": [
    {
     "data": {
      "text/plain": [
       "Total_kids\n",
       "0    5.191223\n",
       "1    1.792553\n",
       "2    1.453682\n",
       "3    1.132075\n",
       "dtype: float64"
      ]
     },
     "execution_count": 93,
     "metadata": {},
     "output_type": "execute_result"
    }
   ],
   "source": [
    "df['campaign_participation'].groupby(df['Total_kids']).sum() / df['Total_kids'].value_counts()*6\n"
   ]
  },
  {
   "attachments": {},
   "cell_type": "markdown",
   "metadata": {},
   "source": [
    "**This could be a recommendation for the marketing team to create segmented campaign for marriage ones especially for those who have kids because the percentage of campaign participation for those who have kids (1-3) is still very low, roughly below 2% and only 18.8% of total customers who don't have kids.**"
   ]
  },
  {
   "attachments": {},
   "cell_type": "markdown",
   "metadata": {},
   "source": [
    "# **Products Analysis**\n",
    "Product Analysis: Which products are the best-sellers? Which ones are not performing well? You could also analyze which products are often purchased together (basket analysis) to gain insights for promotional offers or placement strategies.\n",
    "\n",
    "Products:\n",
    "\n",
    "● MntWines: Amount spent on wine in last 2 years\n",
    "\n",
    "● MntFruits: Amount spent on fruits in last 2 years\n",
    "\n",
    "● MntMeatProducts: Amount spent on meat in last 2 years\n",
    "\n",
    "● MntFishProducts: Amount spent on fish in last 2 years\n",
    "\n",
    "● MntSweetProducts: Amount spent on sweets in last 2 years\n",
    "\n",
    "● MntGoldProds: Amount spent on gold in last 2 years\n",
    "\n",
    "**This is measured by the total amount in USD spent because there is no total quantity sold in the dataset**"
   ]
  },
  {
   "attachments": {},
   "cell_type": "markdown",
   "metadata": {},
   "source": [
    "**Proportion of total amount in USD of all items available in the store** "
   ]
  },
  {
   "cell_type": "code",
   "execution_count": 94,
   "metadata": {},
   "outputs": [
    {
     "data": {
      "image/png": "[encoded data removed]",
      "text/plain": [
       "<Figure size 1000x800 with 1 Axes>"
      ]
     },
     "metadata": {},
     "output_type": "display_data"
    },
    {
     "data": {
      "text/plain": [
       "Fish Products      84057\n",
       "Fruits             58917\n",
       "Gold Products      98609\n",
       "Meat Products     373968\n",
       "Sweet Products     60621\n",
       "Wines             680816\n",
       "dtype: int64"
      ]
     },
     "metadata": {},
     "output_type": "display_data"
    }
   ],
   "source": [
    "#calculate total customer's spending based on each product over the last two years.\n",
    "\n",
    "# Calculate the total amount spent on each category\n",
    "sums = {\n",
    "    'Fish Products': df['MntFishProducts'].sum(),\n",
    "    'Fruits': df['MntFruits'].sum(),\n",
    "    'Gold Products': df['MntGoldProds'].sum(),\n",
    "    'Meat Products': df['MntMeatProducts'].sum(),\n",
    "    'Sweet Products': df['MntSweetProducts'].sum(),\n",
    "    'Wines': df['MntWines'].sum()\n",
    "}\n",
    "\n",
    "# Convert dictionary to Series for easier plotting\n",
    "sum_series = pd.Series(sums)\n",
    "\n",
    "# Create the pie chart --> GANTI JADI BAR CHART. (ANALISA JUMLAH USD NYA)\n",
    "plt.figure(figsize=(10, 8))\n",
    "plt.pie(sum_series, labels=sum_series.index, autopct='%1.1f%%', startangle=90)\n",
    "plt.title(\"Distribution of Customers' Total Money Spent\")\n",
    "plt.show()\n",
    "\n",
    "display(sum_series)\n",
    "\n",
    "\n"
   ]
  },
  {
   "cell_type": "code",
   "execution_count": 95,
   "metadata": {},
   "outputs": [
    {
     "data": {
      "image/png": "[encoded data removed]",
      "text/plain": [
       "<Figure size 1000x800 with 1 Axes>"
      ]
     },
     "metadata": {},
     "output_type": "display_data"
    }
   ],
   "source": [
    "plt.figure(figsize=(10, 8))\n",
    "plt.bar(sum_series.index, sum_series, color='blue')\n",
    "plt.title('Product Sales Distribution')\n",
    "plt.xlabel('Product')\n",
    "plt.ylabel('Sales')\n",
    "plt.show()\n"
   ]
  },
  {
   "attachments": {},
   "cell_type": "markdown",
   "metadata": {},
   "source": [
    "**This is necessary to visualize the product sales distribution(in USD) to know which products impact the most in revenue and income with assumption of increase of sales results increase of income and revenue of the supermarket store.**"
   ]
  },
  {
   "attachments": {},
   "cell_type": "markdown",
   "metadata": {},
   "source": [
    "# **The Influence of Promotion on purchases made by customer over the last two years**\n",
    "\n",
    "\n",
    "● NumDealsPurchases: Number of purchases made with a discount\n",
    "\n",
    "● AcceptedCmp1: 1 if the customer accepted the offer in the 1st campaign, 0 otherwise\n",
    "\n",
    "● AcceptedCmp2: 1 if the customer accepted the offer in the 2nd campaign, 0 otherwise\n",
    "\n",
    "● AcceptedCmp3: 1 if the customer accepted the offer in the 3rd campaign, 0 otherwise\n",
    "\n",
    "● AcceptedCmp4: 1 if the customer accepted the offer in the 4th campaign, 0 otherwise\n",
    "\n",
    "● AcceptedCmp5: 1 if the customer accepted the offer in the 5th campaign, 0 otherwise\n",
    "\n",
    "● Response: 1 if the customer accepted the offer in the last campaign, 0 otherwise (Last Campaign)"
   ]
  },
  {
   "cell_type": "code",
   "execution_count": 96,
   "metadata": {},
   "outputs": [
    {
     "data": {
      "text/plain": [
       "NumDealsPurchases\n",
       "0      46\n",
       "1     970\n",
       "2     497\n",
       "3     297\n",
       "4     189\n",
       "5      94\n",
       "6      61\n",
       "7      40\n",
       "8      14\n",
       "9       8\n",
       "10      5\n",
       "11      5\n",
       "12      4\n",
       "13      3\n",
       "15      7\n",
       "Name: count, dtype: int64"
      ]
     },
     "metadata": {},
     "output_type": "display_data"
    },
    {
     "data": {
      "image/png": "[encoded data removed]",
      "text/plain": [
       "<Figure size 1000x800 with 1 Axes>"
      ]
     },
     "metadata": {},
     "output_type": "display_data"
    }
   ],
   "source": [
    "\n",
    "# First, get the counts for each unique value in the 'NumDealsPurchases' column\n",
    "deal_counts = df['NumDealsPurchases'].value_counts()\n",
    "\n",
    "# Sort by index for a more meaningful chart (remove this line if you want to sort by values instead)\n",
    "deal_counts = deal_counts.sort_index()\n",
    "display(deal_counts)\n",
    "# Create the bar chart\n",
    "plt.figure(figsize=(10, 8))\n",
    "plt.bar(deal_counts.index, deal_counts.values, edgecolor='black')\n",
    "plt.title(\"Number of Customer purchases made with a discount\")\n",
    "plt.xlabel('Total Purchases')\n",
    "plt.ylabel('Number of Customers')\n",
    "plt.show()"
   ]
  },
  {
   "attachments": {},
   "cell_type": "markdown",
   "metadata": {},
   "source": [
    "**The data above shows that only 46 of 2240 customers who didn't purchase items with discount, which means 2196/2240 customers purchase items with discount, accumulated to 97.946% customers purchasing items with discount**\n",
    "\n",
    "**This shows that discount on items should be maintained as discounts are really impactful towards customers' purchasing behaviour**\n"
   ]
  },
  {
   "attachments": {},
   "cell_type": "markdown",
   "metadata": {},
   "source": [
    "# **Information of percentage customers involved in every campaign**\n",
    "\n",
    "\n"
   ]
  },
  {
   "cell_type": "code",
   "execution_count": 97,
   "metadata": {},
   "outputs": [
    {
     "name": "stdout",
     "output_type": "stream",
     "text": [
      "Success Rate over 6 campaigns, which is determined when the customer accepted the offer\n",
      "\n",
      "1st campaign = 6.43%\n",
      "2nd campaign = 1.34%\n",
      "3rd campaign = 7.28%\n",
      "4th campaign = 7.46%\n",
      "5th campaign = 7.28%\n",
      "last campaign = 14.91%\n"
     ]
    }
   ],
   "source": [
    "#Percentage of accepted of 5 campaign (to check its marketing)\n",
    "Percentage1 = f\"{len(df[df['AcceptedCmp1'] == 1]) / len(df) * 100:.2f}%\"\n",
    "Percentage2 = f\"{len(df[df['AcceptedCmp2'] == 1]) / len(df) * 100:.2f}%\"\n",
    "Percentage3 = f\"{len(df[df['AcceptedCmp3'] == 1]) / len(df) * 100:.2f}%\"\n",
    "Percentage4 = f\"{len(df[df['AcceptedCmp4'] == 1]) / len(df) * 100:.2f}%\"\n",
    "Percentage5 = f\"{len(df[df['AcceptedCmp5'] == 1]) / len(df) * 100:.2f}%\"\n",
    "Percentage6 = f\"{len(df[df['Last_Campaign'] == 1]) / len(df) * 100:.2f}%\"\n",
    "\n",
    "print('Success Rate over 6 campaigns, which is determined when the customer accepted the offer')\n",
    "print(f'''\n",
    "1st campaign = {Percentage1}\n",
    "2nd campaign = {Percentage2}\n",
    "3rd campaign = {Percentage3}\n",
    "4th campaign = {Percentage4}\n",
    "5th campaign = {Percentage5}\n",
    "last campaign = {Percentage6}''')"
   ]
  },
  {
   "attachments": {},
   "cell_type": "markdown",
   "metadata": {},
   "source": [
    "# **Purchases based on place**\n",
    "\n",
    "● NumWebPurchases: Number of purchases made through the company’s website\n",
    "\n",
    "● NumCatalogPurchases: Number of purchases made using a catalog\n",
    "\n",
    "● NumStorePurchases: Number of purchases made directly in stores"
   ]
  },
  {
   "cell_type": "code",
   "execution_count": 98,
   "metadata": {},
   "outputs": [
    {
     "data": {
      "text/plain": [
       "NumWebPurchases\n",
       "0      49\n",
       "1     354\n",
       "2     373\n",
       "3     336\n",
       "4     280\n",
       "5     220\n",
       "6     205\n",
       "7     155\n",
       "8     102\n",
       "9      75\n",
       "10     43\n",
       "11     44\n",
       "23      1\n",
       "25      1\n",
       "27      2\n",
       "Name: count, dtype: int64"
      ]
     },
     "metadata": {},
     "output_type": "display_data"
    },
    {
     "data": {
      "text/plain": [
       "NumCatalogPurchases\n",
       "0     586\n",
       "1     497\n",
       "2     276\n",
       "3     184\n",
       "4     182\n",
       "5     140\n",
       "6     128\n",
       "7      79\n",
       "8      55\n",
       "9      42\n",
       "10     48\n",
       "11     19\n",
       "22      1\n",
       "28      3\n",
       "Name: count, dtype: int64"
      ]
     },
     "metadata": {},
     "output_type": "display_data"
    },
    {
     "data": {
      "text/plain": [
       "NumStorePurchases\n",
       "0      15\n",
       "1       7\n",
       "2     223\n",
       "3     490\n",
       "4     323\n",
       "5     212\n",
       "6     178\n",
       "7     143\n",
       "8     149\n",
       "9     106\n",
       "10    125\n",
       "11     81\n",
       "12    105\n",
       "13     83\n",
       "Name: count, dtype: int64"
      ]
     },
     "metadata": {},
     "output_type": "display_data"
    },
    {
     "data": {
      "text/plain": [
       "NumWebVisitsMonth\n",
       "0      11\n",
       "1     153\n",
       "2     202\n",
       "3     205\n",
       "4     218\n",
       "5     281\n",
       "6     340\n",
       "7     393\n",
       "8     342\n",
       "9      83\n",
       "10      3\n",
       "13      1\n",
       "14      2\n",
       "17      1\n",
       "19      2\n",
       "20      3\n",
       "Name: count, dtype: int64"
      ]
     },
     "metadata": {},
     "output_type": "display_data"
    },
    {
     "name": "stdout",
     "output_type": "stream",
     "text": [
      "Percentage of customer did not purchase any items from catalog purchases: 26.16%\n",
      "Percentage of customer did not purchase any items from web purchases: 2.19%\n",
      "Percentage of customer did not purchase any items from store purchases: 0.67%\n"
     ]
    }
   ],
   "source": [
    "display(df['NumWebPurchases'].value_counts().sort_index())\n",
    "display(df['NumCatalogPurchases'].value_counts().sort_index())\n",
    "display(df['NumStorePurchases'].value_counts().sort_index())\n",
    "display(df['NumWebVisitsMonth'].value_counts().sort_index())\n",
    "\n",
    "\n",
    "Catalog_Not_Purchase = f\"{len(df[df['NumCatalogPurchases'] == 0]) / len(df) * 100:.2f}%\"\n",
    "print(f'Percentage of customer did not purchase any items from catalog purchases: {Catalog_Not_Purchase}')\n",
    "#data shows that catalog purchases has the most 0 purchases compared to the other, which are 586 of the total customers, accumulate = 26.16%\n",
    "#this shows that marketing via catalog is the most inefficient compared to web or store purchases.\n",
    "\n",
    "\n",
    "Web_Not_Purchase = f\"{len(df[df['NumWebPurchases'] == 0]) / len(df) * 100:.2f}%\"\n",
    "print(f'Percentage of customer did not purchase any items from web purchases: {Web_Not_Purchase}')\n",
    "\n",
    "\n",
    "Store_Not_Purchase = f\"{len(df[df['NumStorePurchases'] == 0]) / len(df) * 100:.2f}%\"\n",
    "print(f'Percentage of customer did not purchase any items from store purchases: {Store_Not_Purchase}')"
   ]
  },
  {
   "attachments": {},
   "cell_type": "markdown",
   "metadata": {},
   "source": [
    "**Data above shows that the most impactful place of purchases are store and web purchases as 26.16% customers didn't purchase items from catalog purchases**"
   ]
  },
  {
   "attachments": {},
   "cell_type": "markdown",
   "metadata": {},
   "source": [
    "**Find out the percentage of every generation who participate in every campaign**\n",
    "\n",
    "the formula is again (*^6) as the total value of campaign participation is 6, so 100% for each customer means that the customer joins all the six campaigns. "
   ]
  },
  {
   "cell_type": "code",
   "execution_count": 99,
   "metadata": {},
   "outputs": [
    {
     "name": "stdout",
     "output_type": "stream",
     "text": [
      "Generation\n",
      "Boomers        2.727273\n",
      "Gen X          2.312442\n",
      "Millennials    3.522078\n",
      "Silent         4.000000\n",
      "Name: campaign_participation, dtype: float64\n"
     ]
    }
   ],
   "source": [
    "df_grouped = df.groupby('Generation')['campaign_participation'].sum() / df.groupby('Generation')['campaign_participation'].count() * 6\n",
    "print(df_grouped)\n"
   ]
  },
  {
   "attachments": {},
   "cell_type": "markdown",
   "metadata": {},
   "source": [
    "**Data above shows that the silent generation participated the most amongst the others, accumulated total of 4%**"
   ]
  },
  {
   "attachments": {},
   "cell_type": "markdown",
   "metadata": {},
   "source": [
    "**Find out the percentage of every education who participate in every campaign**\n",
    "\n",
    "the formula is again (*^6) as the total value of campaign participation is 6, so 100% for each customer means that the customer joins all the six campaigns. "
   ]
  },
  {
   "cell_type": "code",
   "execution_count": 100,
   "metadata": {},
   "outputs": [
    {
     "name": "stdout",
     "output_type": "stream",
     "text": [
      "Education\n",
      "2n Cycle      2.157635\n",
      "Basic         0.888889\n",
      "Graduation    2.635315\n",
      "Master        2.594595\n",
      "PhD           3.271605\n",
      "Name: campaign_participation, dtype: float64\n"
     ]
    }
   ],
   "source": [
    "df_grouped_ed = df.groupby('Education')['campaign_participation'].sum() / df.groupby('Education')['campaign_participation'].count() * 6\n",
    "print(df_grouped_ed)\n"
   ]
  },
  {
   "attachments": {},
   "cell_type": "markdown",
   "metadata": {},
   "source": [
    "**Data above shows that those customers with PhD degree participated the most amongst the others, accumulated total of 3.271%**"
   ]
  },
  {
   "attachments": {},
   "cell_type": "markdown",
   "metadata": {},
   "source": [
    "**Effectiveness of online website to gather customer's interest in buying items in the supermarket store.** \n",
    "\n",
    "● NumWebVisitsMonth: Number of visits to the company’s website in the last month"
   ]
  },
  {
   "cell_type": "code",
   "execution_count": 101,
   "metadata": {},
   "outputs": [
    {
     "data": {
      "text/plain": [
       "NumWebVisitsMonth\n",
       "7     393\n",
       "8     342\n",
       "6     340\n",
       "5     281\n",
       "4     218\n",
       "3     205\n",
       "2     202\n",
       "1     153\n",
       "9      83\n",
       "0      11\n",
       "20      3\n",
       "10      3\n",
       "14      2\n",
       "19      2\n",
       "17      1\n",
       "13      1\n",
       "Name: count, dtype: int64"
      ]
     },
     "metadata": {},
     "output_type": "display_data"
    },
    {
     "name": "stdout",
     "output_type": "stream",
     "text": [
      "Percentage of customer did not visit the company's website over the last month: 0.49%\n"
     ]
    }
   ],
   "source": [
    "display(df['NumWebVisitsMonth'].value_counts())\n",
    "\n",
    "\n",
    "Web_Not_Visit = f\"{len(df[df['NumWebVisitsMonth'] == 0]) / len(df) * 100:.2f}%\"\n",
    "print(f\"Percentage of customer did not visit the company's website over the last month: {Web_Not_Visit}\")\n",
    "\n"
   ]
  },
  {
   "attachments": {},
   "cell_type": "markdown",
   "metadata": {},
   "source": [
    "**This shows that only 0.49% accumulated of the total customers who did not visit the company's website. --> shows that the company's website assumed to be helpful in promoting the products in the supermarket store.**"
   ]
  },
  {
   "attachments": {},
   "cell_type": "markdown",
   "metadata": {},
   "source": [
    "# **Conclusion:**\n",
    "\n",
    "1. In terms of the demography, most of the customers are Gen X (with a year birth of 1965-1980) and their education are mostly graduation.\n",
    "2. Supermarket's six campaigns does not really engage the customers as only in the 1st to 5th campaign, the customers' participation are below 10%.\n",
    "3. Supermarket's services is outstanding as only 0.9% of total customers complained.\n",
    "4. Discounts really impacts customers purchasing behaviour.\n",
    "5. Supermarket's web is effective in promoting their items as most of the customers visit the web."
   ]
  },
  {
   "attachments": {},
   "cell_type": "markdown",
   "metadata": {},
   "source": [
    "# **Recommendation:**\n",
    "\n",
    "1. From the Analysis, in terms of marital status, most of the customers are living together or married, it is recommended for the marketing team to make segmented campaigns for married ones (for their family), within this, it is hoped that those married / living together will be interested and involved in the campaigns.\n",
    "\n",
    "2. same as the above, those who have kids (1-3 kids), only participates around 1-2%, it is recommended to make segmented campaigns especially for those who have kids.\n",
    "\n",
    "3. From the complain analysis, only 21 customers of 2240 who complained, which means 99.1% customers didn't complain, this means that the supermaket service is already satistfying enough and should be maintainted. It is also recommended that the supermarket owner should give questionnaire for those 21 customers about their complains, to increase the service to 100% satisfying for the customers.\n",
    "\n",
    "4. in terms of the product sales distribution in USD, with the assumption of increase sales will increase income and revenue, the supermarket marketing team should focus on selling wines (accumulated to 50.2%) and meat products (accumulated to 27.6%) of total sales distribution as both are the items with the most impact towards the sales distribution.\n",
    "\n",
    "5. In terms of discount, the supermarket team should still maintain discount as 97.946% customers purchase items with discount.\n",
    "\n",
    "6. In terms of place of purchase, the supermarket team should focus on web purchases instead of catalog purchases as only 2.19% customers didn't buy from web compared to catalog which accumulates 26.16% customers who didn't purchase from catalog purchases. The most effective ones are still store purchases. The customers are also interested in the supermarket's web, as only 11 or 0.49% of total customers who didn't visit the web during the last month, so it is recommended that the web should be maintained."
   ]
  },
  {
   "attachments": {},
   "cell_type": "markdown",
   "metadata": {},
   "source": [
    "**Save the final file that has been analyzed for visualization in tableau**"
   ]
  },
  {
   "cell_type": "code",
   "execution_count": 102,
   "metadata": {},
   "outputs": [],
   "source": [
    "df.to_csv('supermarket_cleaning.csv', index=False)"
   ]
  }
 ],
 "metadata": {
  "kernelspec": {
   "display_name": "Python 3",
   "language": "python",
   "name": "python3"
  },
  "language_info": {
   "codemirror_mode": {
    "name": "ipython",
    "version": 3
   },
   "file_extension": ".py",
   "mimetype": "text/x-python",
   "name": "python",
   "nbconvert_exporter": "python",
   "pygments_lexer": "ipython3",
   "version": "3.9.6"
  },
  "orig_nbformat": 4
 },
 "nbformat": 4,
 "nbformat_minor": 2
}
